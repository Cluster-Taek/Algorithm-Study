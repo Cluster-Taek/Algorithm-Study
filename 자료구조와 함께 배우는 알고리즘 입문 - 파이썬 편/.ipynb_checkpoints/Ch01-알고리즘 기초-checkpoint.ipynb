{
 "cells": [
  {
   "cell_type": "markdown",
   "metadata": {},
   "source": [
    "# Algorithm-Study\n",
    "자료구조와 함께 배우는 알고리즘 입문 파이썬 편 전권을 공부하고 기록하는 Repository입니다.  \n",
    "자료구조와 알고리즘에 대한 기초가 약하다고 판단하여 집중적으로 공부하기 위해 만들었습니다.\n",
    "\n",
    "## 1. 알고리즘이란? (07.01)\n",
    "\n",
    "#### 알고리즘의 정의\n",
    "어떠한 문제를 해결하기 위해 정해 놓은 일련의 절차\n",
    "\n",
    "#### 파이썬 스타일 가이드 PEP 8\n",
    "클래스명은 CamelCase, 함수명은 snake_case로 쓸 것을 권장\n",
    "\n",
    "#### 파이썬의 변수\n",
    "- 변수는 객체를 참조하는 객체에 연결된 이름에 불과합니다.\n",
    "- 모든 객체는 메모리를 차지하고, 자료형뿐만 아니라 식별 번호(identity)를 가집니다."
   ]
  },
  {
   "cell_type": "code",
   "execution_count": 2,
   "metadata": {},
   "outputs": [
    {
     "data": {
      "text/plain": [
       "140712304720160"
      ]
     },
     "execution_count": 2,
     "metadata": {},
     "output_type": "execute_result"
    }
   ],
   "source": [
    "n = 17\n",
    "id(17) # 140712304720160\n",
    "id(n) # 140712304720160"
   ]
  },
  {
   "cell_type": "markdown",
   "metadata": {},
   "source": [
    "## 2. 기본 자료구조와 배열 (07.02)"
   ]
  },
  {
   "cell_type": "code",
   "execution_count": 1,
   "metadata": {},
   "outputs": [
    {
     "name": "stdout",
     "output_type": "stream",
     "text": [
      "학생 그룹 점수의 합계와 평균을 구합니다.\n"
     ]
    },
    {
     "name": "stdin",
     "output_type": "stream",
     "text": [
      "1번 학생의 점수를 입력하세요.: score1 = int(input('1번 학생의 점수를 입력하세요.:'))\n"
     ]
    },
    {
     "ename": "ValueError",
     "evalue": "invalid literal for int() with base 10: \"score1 = int(input('1번 학생의 점수를 입력하세요.:'))\"",
     "output_type": "error",
     "traceback": [
      "\u001b[1;31m---------------------------------------------------------------------------\u001b[0m",
      "\u001b[1;31mValueError\u001b[0m                                Traceback (most recent call last)",
      "\u001b[1;32m<ipython-input-1-092586612648>\u001b[0m in \u001b[0;36m<module>\u001b[1;34m\u001b[0m\n\u001b[0;32m      3\u001b[0m \u001b[0mprint\u001b[0m\u001b[1;33m(\u001b[0m\u001b[1;34m'학생 그룹 점수의 합계와 평균을 구합니다.'\u001b[0m\u001b[1;33m)\u001b[0m\u001b[1;33m\u001b[0m\u001b[1;33m\u001b[0m\u001b[0m\n\u001b[0;32m      4\u001b[0m \u001b[1;33m\u001b[0m\u001b[0m\n\u001b[1;32m----> 5\u001b[1;33m \u001b[0mscore1\u001b[0m \u001b[1;33m=\u001b[0m \u001b[0mint\u001b[0m\u001b[1;33m(\u001b[0m\u001b[0minput\u001b[0m\u001b[1;33m(\u001b[0m\u001b[1;34m'1번 학생의 점수를 입력하세요.:'\u001b[0m\u001b[1;33m)\u001b[0m\u001b[1;33m)\u001b[0m\u001b[1;33m\u001b[0m\u001b[1;33m\u001b[0m\u001b[0m\n\u001b[0m\u001b[0;32m      6\u001b[0m \u001b[0mscore1\u001b[0m \u001b[1;33m=\u001b[0m \u001b[0mint\u001b[0m\u001b[1;33m(\u001b[0m\u001b[0minput\u001b[0m\u001b[1;33m(\u001b[0m\u001b[1;34m'1번 학생의 점수를 입력하세요.:'\u001b[0m\u001b[1;33m)\u001b[0m\u001b[1;33m)\u001b[0m\u001b[1;33m\u001b[0m\u001b[1;33m\u001b[0m\u001b[0m\n\u001b[0;32m      7\u001b[0m \u001b[0mscore1\u001b[0m \u001b[1;33m=\u001b[0m \u001b[0mint\u001b[0m\u001b[1;33m(\u001b[0m\u001b[0minput\u001b[0m\u001b[1;33m(\u001b[0m\u001b[1;34m'1번 학생의 점수를 입력하세요.:'\u001b[0m\u001b[1;33m)\u001b[0m\u001b[1;33m)\u001b[0m\u001b[1;33m\u001b[0m\u001b[1;33m\u001b[0m\u001b[0m\n",
      "\u001b[1;31mValueError\u001b[0m: invalid literal for int() with base 10: \"score1 = int(input('1번 학생의 점수를 입력하세요.:'))\""
     ]
    }
   ],
   "source": [
    "# 학생 5명의 시험 점수를 입력받아 합계와 평균을 출력하기\n",
    "\n",
    "print('학생 그룹 점수의 합계와 평균을 구합니다.')\n",
    "\n",
    "score1 = int(input('1번 학생의 점수를 입력하세요.:'))\n",
    "score1 = int(input('2번 학생의 점수를 입력하세요.:'))\n",
    "score1 = int(input('3번 학생의 점수를 입력하세요.:'))\n",
    "score1 = int(input('4번 학생의 점수를 입력하세요.:'))\n",
    "score1 = int(input('5번 학생의 점수를 입력하세요.:'))"
   ]
  }
 ],
 "metadata": {
  "kernelspec": {
   "display_name": "Python 3",
   "language": "python",
   "name": "python3"
  },
  "language_info": {
   "codemirror_mode": {
    "name": "ipython",
    "version": 3
   },
   "file_extension": ".py",
   "mimetype": "text/x-python",
   "name": "python",
   "nbconvert_exporter": "python",
   "pygments_lexer": "ipython3",
   "version": "3.8.3"
  }
 },
 "nbformat": 4,
 "nbformat_minor": 4
}
