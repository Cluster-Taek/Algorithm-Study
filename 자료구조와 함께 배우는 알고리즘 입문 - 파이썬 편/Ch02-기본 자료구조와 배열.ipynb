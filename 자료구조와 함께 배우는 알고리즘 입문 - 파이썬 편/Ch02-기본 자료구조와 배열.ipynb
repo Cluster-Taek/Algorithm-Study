{
 "cells": [
  {
   "cell_type": "markdown",
   "metadata": {},
   "source": [
    "## 2. 기본 자료구조와 배열 (07.02)\n",
    "\n",
    "- mutable 자료형 : 리스트, 딕셔너리, 집합 등이 있으며 값을 변경 가능\n",
    "- immutable 자료형 : 수, 문자열, 튜플 등이 있으며 값 변경 불가"
   ]
  },
  {
   "cell_type": "code",
   "execution_count": 11,
   "metadata": {},
   "outputs": [
    {
     "name": "stdout",
     "output_type": "stream",
     "text": [
      "[11, 22, 33, 44, 55, 66, 77]\n",
      "[11, 22, 33, 44]\n",
      "[55, 66, 77]\n",
      "[44, 55, 66, 77]\n",
      "[11, 33, 55, 77]\n",
      "[77, 66, 55, 44, 33, 22, 11]\n"
     ]
    }
   ],
   "source": [
    "s = [11, 22, 33, 44, 55, 66, 77]\n",
    "print(s[:]) # 모든 원소 출력\n",
    "print(s[:4]) # 맨 앞부터 4개 까지 출력\n",
    "print(s[4:]) # s[4]부터 맨 끝까지 출력\n",
    "print(s[-4:]) # -4부터 맨 끝까지 출력\n",
    "print(s[::2]) # 맨 앞부터 2개씩 건너뛰며 출력\n",
    "print(s[::-1]) # 맨 끝부터 전부 출력"
   ]
  },
  {
   "cell_type": "markdown",
   "metadata": {},
   "source": [
    "#### 비교 연산자로 배열의 대소 또는 등가 관계 판단"
   ]
  },
  {
   "cell_type": "code",
   "execution_count": 15,
   "metadata": {},
   "outputs": [
    {
     "data": {
      "text/plain": [
       "True"
      ]
     },
     "execution_count": 15,
     "metadata": {},
     "output_type": "execute_result"
    }
   ],
   "source": [
    "[1, 2, 3] == [1, 2, 3] # True\n",
    "[1, 2, 3] < [1, 2, 4] # True\n",
    "[1, 2, 3, 4] <= [1, 2, 3, 4] # True\n",
    "[1, 2, 3] < [1, 2, 3, 5] # True\n",
    "[1, 2, 3] < [1, 2, 3, 5] < [1, 2, 3, 5, 6] # and 결합 True"
   ]
  },
  {
   "cell_type": "markdown",
   "metadata": {},
   "source": [
    "#### 알고리즘 개선"
   ]
  },
  {
   "cell_type": "code",
   "execution_count": 34,
   "metadata": {},
   "outputs": [
    {
     "name": "stdout",
     "output_type": "stream",
     "text": [
      "나눗셈을 실행한 횟수: 78022\n"
     ]
    }
   ],
   "source": [
    "counter = 0 # 나눗셈 횟수를 카운트\n",
    "\n",
    "for n in range(2, 1001):\n",
    "    for i in range(2, n) :\n",
    "        counter += 1\n",
    "        if n % i == 0 : # 나누어 떨어지면 소수가 아님\n",
    "            break # 반복은 불필요하므로 중단\n",
    "print(f'나눗셈을 실행한 횟수: {counter}')"
   ]
  },
  {
   "cell_type": "code",
   "execution_count": 35,
   "metadata": {},
   "outputs": [
    {
     "name": "stdout",
     "output_type": "stream",
     "text": [
      "나눗셈을 실행한 횟수: 14622\n"
     ]
    }
   ],
   "source": [
    "# 개선 1 : 짝수는 소수일 수 없으므로 제외하고 홀수만을 계산\n",
    "\n",
    "counter = 0\n",
    "ptr = 0\n",
    "prime = [None] * 500\n",
    "\n",
    "prime[ptr] = 2\n",
    "ptr += 1\n",
    "\n",
    "for n in range(3, 1000, 2):\n",
    "    for i in range(1, ptr) :\n",
    "        counter += 1\n",
    "        if n % prime[i] == 0 : # 나누어 떨어지면 소수가 아님\n",
    "            break # 반복은 불필요하므로 중단\n",
    "    else:\n",
    "        prime[ptr] = n\n",
    "        ptr += 1\n",
    "print(f'나눗셈을 실행한 횟수: {counter}')"
   ]
  },
  {
   "cell_type": "code",
   "execution_count": 36,
   "metadata": {},
   "outputs": [
    {
     "name": "stdout",
     "output_type": "stream",
     "text": [
      "곱셈과 나눗셈을 실행한 횟수: 3774\n"
     ]
    }
   ],
   "source": [
    "# 개선 2 : n의 제곱근 이하의 어떤 소수로도 나누어 떨어지지 않으면 소수\n",
    "\n",
    "counter = 0\n",
    "ptr = 0\n",
    "prime = [None] * 500\n",
    "\n",
    "prime[ptr] = 2\n",
    "ptr += 1\n",
    "\n",
    "prime[ptr] = 3\n",
    "ptr += 1\n",
    "\n",
    "for n in range(5, 1001, 2):\n",
    "    i = 1\n",
    "    while prime[i] * prime[i] <= n:\n",
    "        counter += 2\n",
    "        if n % prime[i] == 0 : # 나누어 떨어지면 소수가 아님\n",
    "            break # 반복은 불필요하므로 중단\n",
    "        i += 1\n",
    "    else:\n",
    "        prime[ptr] = n\n",
    "        ptr += 1\n",
    "        counter += 1\n",
    "print(f'곱셈과 나눗셈을 실행한 횟수: {counter}')"
   ]
  }
 ],
 "metadata": {
  "kernelspec": {
   "display_name": "Python 3",
   "language": "python",
   "name": "python3"
  },
  "language_info": {
   "codemirror_mode": {
    "name": "ipython",
    "version": 3
   },
   "file_extension": ".py",
   "mimetype": "text/x-python",
   "name": "python",
   "nbconvert_exporter": "python",
   "pygments_lexer": "ipython3",
   "version": "3.8.3"
  }
 },
 "nbformat": 4,
 "nbformat_minor": 4
}
