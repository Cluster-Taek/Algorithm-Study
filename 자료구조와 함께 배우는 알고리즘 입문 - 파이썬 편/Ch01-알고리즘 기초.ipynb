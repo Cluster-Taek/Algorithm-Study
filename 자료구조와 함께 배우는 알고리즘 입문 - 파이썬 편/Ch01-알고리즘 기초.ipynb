{
 "cells": [
  {
   "cell_type": "markdown",
   "metadata": {},
   "source": [
    "## 1. 알고리즘이란? (07.01)\n",
    "\n",
    "#### 알고리즘의 정의\n",
    "어떠한 문제를 해결하기 위해 정해 놓은 일련의 절차\n",
    "\n",
    "#### 파이썬 스타일 가이드 PEP 8\n",
    "클래스명은 CamelCase, 함수명은 snake_case로 쓸 것을 권장\n",
    "\n",
    "#### 파이썬의 변수\n",
    "- 변수는 객체를 참조하는 객체에 연결된 이름에 불과합니다.\n",
    "- 모든 객체는 메모리를 차지하고, 자료형뿐만 아니라 식별 번호(identity)를 가집니다."
   ]
  },
  {
   "cell_type": "code",
   "execution_count": 2,
   "metadata": {},
   "outputs": [
    {
     "data": {
      "text/plain": [
       "140712304720160"
      ]
     },
     "execution_count": 2,
     "metadata": {},
     "output_type": "execute_result"
    }
   ],
   "source": [
    "n = 17\n",
    "id(17) # 140712304720160\n",
    "id(n) # 140712304720160"
   ]
  }
 ],
 "metadata": {
  "kernelspec": {
   "display_name": "Python 3",
   "language": "python",
   "name": "python3"
  },
  "language_info": {
   "codemirror_mode": {
    "name": "ipython",
    "version": 3
   },
   "file_extension": ".py",
   "mimetype": "text/x-python",
   "name": "python",
   "nbconvert_exporter": "python",
   "pygments_lexer": "ipython3",
   "version": "3.8.3"
  }
 },
 "nbformat": 4,
 "nbformat_minor": 4
}
