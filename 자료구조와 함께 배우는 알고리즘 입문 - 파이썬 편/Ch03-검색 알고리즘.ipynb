{
 "cells": [
  {
   "cell_type": "markdown",
   "metadata": {},
   "source": [
    "## 3. 검색 알고리즘(배열 검색) (07.04)\n",
    "\n",
    "- 검색 알고리즘의 종류 : 배열 검색, 연결 리스트 검색, 이진 검색 트리 검색\n",
    "- 배열 검색\n",
    "    - 선형 검색 : 무작위의 데이터 집합에서 검색을 수행\n",
    "    - 이진 검색 : 일정한 규칙으로 늘어놓은 데이터 집합에서 빠르게 검색을 수행\n",
    "    - 해시법 : 추가, 삭제가 자주 일어나는 데이터 집합에서 빠르게 검색을 수행"
   ]
  },
  {
   "cell_type": "markdown",
   "metadata": {},
   "source": [
    "### 선형 검색(Sequential Search)\n",
    "- 종료 조건 : 검색할 값을 찾지 못하고 배열의 끝을 지나가거나 검색할 원소를 찾는 경우"
   ]
  },
  {
   "cell_type": "code",
   "execution_count": 5,
   "metadata": {},
   "outputs": [
    {
     "name": "stdin",
     "output_type": "stream",
     "text": [
      "원소 수를 입력하세요.: 3\n",
      "x[0]:  12\n",
      "x[1]:  44\n",
      "x[2]:  54\n",
      "검색할 값을 입력하세요.:  54\n"
     ]
    },
    {
     "name": "stdout",
     "output_type": "stream",
     "text": [
      "검색값은 x[2]에 있습니다.\n"
     ]
    }
   ],
   "source": [
    "from typing import Any, Sequence\n",
    "\n",
    "# 선형 검색 함수\n",
    "def seq_search(a : Sequence, key: any) -> int:\n",
    "    for i in range(len(a)):\n",
    "        if a[i] == key:\n",
    "            return i # 검색 성공(인덱스를 반환)\n",
    "    return -1 # 검색 실패(-1을 반환\n",
    "\n",
    "num = int(input('원소 수를 입력하세요.:')) # num 값 입력\n",
    "x = [None] * num # 원소 수가 num인 배열을 생성\n",
    "\n",
    "# Main 실행\n",
    "for i in range(num):\n",
    "    x[i] = int(input(f'x[{i}]: '))\n",
    "    \n",
    "ky = int(input('검색할 값을 입력하세요.: ')) # 검색할 키 ky를 입력받음\n",
    "\n",
    "idx = seq_search(x, ky)\n",
    "\n",
    "if idx == -1:\n",
    "    print('검색값을 갖는 원소가 존재하지 않습니다.')\n",
    "else :\n",
    "    print(f'검색값은 x[{idx}]에 있습니다.')"
   ]
  },
  {
   "cell_type": "markdown",
   "metadata": {},
   "source": [
    "#### ※ 보초법(sentinel method) : 종료 조건을 검색할 원소를 찾는 경우로 최소화"
   ]
  },
  {
   "cell_type": "code",
   "execution_count": 6,
   "metadata": {},
   "outputs": [
    {
     "name": "stdin",
     "output_type": "stream",
     "text": [
      "원소 수를 입력하세요.: 3\n",
      "x[0]:  12\n",
      "x[1]:  13\n",
      "x[2]:  14\n",
      "검색할 값을 입력하세요.:  45\n"
     ]
    },
    {
     "name": "stdout",
     "output_type": "stream",
     "text": [
      "검색값을 갖는 원소가 존재하지 않습니다.\n"
     ]
    }
   ],
   "source": [
    "from typing import Any, Sequence\n",
    "import copy\n",
    "\n",
    "# 선형 검색 함수\n",
    "def sentinel_search(a : Sequence, key: any) -> int:\n",
    "    a = copy.deepcopy(seq) # seq를 복사\n",
    "    a.append(key) # 보초 key를 추가\n",
    "    \n",
    "    i = 0\n",
    "    while True:\n",
    "        if a[i] == key:\n",
    "            break # 검색에 성공하면 while문을 종료\n",
    "        i += 1\n",
    "    return -1 if i == len(seq) else i # 검색에 실패했을 경우 -1을 반환\n",
    "\n",
    "num = int(input('원소 수를 입력하세요.:')) # num 값 입력\n",
    "x = [None] * num # 원소 수가 num인 배열을 생성\n",
    "\n",
    "# Main 실행\n",
    "for i in range(num):\n",
    "    x[i] = int(input(f'x[{i}]: '))\n",
    "    \n",
    "ky = int(input('검색할 값을 입력하세요.: ')) # 검색할 키 ky를 입력받음\n",
    "\n",
    "idx = seq_search(x, ky)\n",
    "\n",
    "if idx == -1:\n",
    "    print('검색값을 갖는 원소가 존재하지 않습니다.')\n",
    "else :\n",
    "    print(f'검색값은 x[{idx}]에 있습니다.')"
   ]
  }
 ],
 "metadata": {
  "kernelspec": {
   "display_name": "Python 3",
   "language": "python",
   "name": "python3"
  },
  "language_info": {
   "codemirror_mode": {
    "name": "ipython",
    "version": 3
   },
   "file_extension": ".py",
   "mimetype": "text/x-python",
   "name": "python",
   "nbconvert_exporter": "python",
   "pygments_lexer": "ipython3",
   "version": "3.8.5"
  }
 },
 "nbformat": 4,
 "nbformat_minor": 4
}
