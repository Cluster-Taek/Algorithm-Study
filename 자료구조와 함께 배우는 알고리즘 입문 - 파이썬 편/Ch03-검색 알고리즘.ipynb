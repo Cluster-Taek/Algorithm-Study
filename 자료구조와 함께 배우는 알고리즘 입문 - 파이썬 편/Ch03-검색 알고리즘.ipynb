{
 "cells": [
  {
   "cell_type": "markdown",
   "metadata": {},
   "source": [
    "## 3. 검색 알고리즘(배열 검색) (07.04)\n",
    "\n",
    "- 검색 알고리즘의 종류 : 배열 검색, 연결 리스트 검색, 이진 검색 트리 검색\n",
    "- 배열 검색\n",
    "    - 선형 검색 : 무작위의 데이터 집합에서 검색을 수행\n",
    "    - 이진 검색 : 일정한 규칙으로 늘어놓은 데이터 집합에서 빠르게 검색을 수행\n",
    "    - 해시법 : 추가, 삭제가 자주 일어나는 데이터 집합에서 빠르게 검색을 수행"
   ]
  },
  {
   "cell_type": "markdown",
   "metadata": {},
   "source": [
    "### 선형 검색(Sequential Search)\n",
    "- 종료 조건 : 검색할 값을 찾지 못하고 배열의 끝을 지나가거나 검색할 원소를 찾는 경우"
   ]
  },
  {
   "cell_type": "code",
   "execution_count": 5,
   "metadata": {},
   "outputs": [
    {
     "name": "stdin",
     "output_type": "stream",
     "text": [
      "원소 수를 입력하세요.: 3\n",
      "x[0]:  12\n",
      "x[1]:  44\n",
      "x[2]:  54\n",
      "검색할 값을 입력하세요.:  54\n"
     ]
    },
    {
     "name": "stdout",
     "output_type": "stream",
     "text": [
      "검색값은 x[2]에 있습니다.\n"
     ]
    }
   ],
   "source": [
    "from typing import Any, Sequence\n",
    "\n",
    "# 선형 검색 함수\n",
    "def seq_search(a : Sequence, key: any) -> int:\n",
    "    for i in range(len(a)):\n",
    "        if a[i] == key:\n",
    "            return i # 검색 성공(인덱스를 반환)\n",
    "    return -1 # 검색 실패(-1을 반환\n",
    "\n",
    "\n",
    "# Main 실행\n",
    "num = int(input('원소 수를 입력하세요.:')) # num 값 입력\n",
    "x = [None] * num # 원소 수가 num인 배열을 생성\n",
    "\n",
    "for i in range(num):\n",
    "    x[i] = int(input(f'x[{i}]: '))\n",
    "    \n",
    "ky = int(input('검색할 값을 입력하세요.: ')) # 검색할 키 ky를 입력받음\n",
    "\n",
    "idx = seq_search(x, ky)\n",
    "\n",
    "if idx == -1:\n",
    "    print('검색값을 갖는 원소가 존재하지 않습니다.')\n",
    "else :\n",
    "    print(f'검색값은 x[{idx}]에 있습니다.')"
   ]
  },
  {
   "cell_type": "markdown",
   "metadata": {},
   "source": [
    "#### ※ 보초법(sentinel method) : 종료 조건을 검색할 원소를 찾는 경우로 최소화"
   ]
  },
  {
   "cell_type": "code",
   "execution_count": 2,
   "metadata": {},
   "outputs": [
    {
     "name": "stdin",
     "output_type": "stream",
     "text": [
      "원소 수를 입력하세요.: 6\n",
      "x[0]:  12\n",
      "x[1]:  34\n",
      "x[2]:  55\n",
      "x[3]:  11\n",
      "x[4]:  23\n",
      "x[5]:  3\n",
      "검색할 값을 입력하세요.:  3\n"
     ]
    },
    {
     "ename": "NameError",
     "evalue": "name 'seq' is not defined",
     "output_type": "error",
     "traceback": [
      "\u001b[1;31m---------------------------------------------------------------------------\u001b[0m",
      "\u001b[1;31mNameError\u001b[0m                                 Traceback (most recent call last)",
      "\u001b[1;32m<ipython-input-2-5d9046774993>\u001b[0m in \u001b[0;36m<module>\u001b[1;34m\u001b[0m\n\u001b[0;32m     24\u001b[0m \u001b[0mky\u001b[0m \u001b[1;33m=\u001b[0m \u001b[0mint\u001b[0m\u001b[1;33m(\u001b[0m\u001b[0minput\u001b[0m\u001b[1;33m(\u001b[0m\u001b[1;34m'검색할 값을 입력하세요.: '\u001b[0m\u001b[1;33m)\u001b[0m\u001b[1;33m)\u001b[0m \u001b[1;31m# 검색할 키 ky를 입력받음\u001b[0m\u001b[1;33m\u001b[0m\u001b[1;33m\u001b[0m\u001b[0m\n\u001b[0;32m     25\u001b[0m \u001b[1;33m\u001b[0m\u001b[0m\n\u001b[1;32m---> 26\u001b[1;33m \u001b[0midx\u001b[0m \u001b[1;33m=\u001b[0m \u001b[0msentinel_search\u001b[0m\u001b[1;33m(\u001b[0m\u001b[0mx\u001b[0m\u001b[1;33m,\u001b[0m \u001b[0mky\u001b[0m\u001b[1;33m)\u001b[0m\u001b[1;33m\u001b[0m\u001b[1;33m\u001b[0m\u001b[0m\n\u001b[0m\u001b[0;32m     27\u001b[0m \u001b[1;33m\u001b[0m\u001b[0m\n\u001b[0;32m     28\u001b[0m \u001b[1;32mif\u001b[0m \u001b[0midx\u001b[0m \u001b[1;33m==\u001b[0m \u001b[1;33m-\u001b[0m\u001b[1;36m1\u001b[0m\u001b[1;33m:\u001b[0m\u001b[1;33m\u001b[0m\u001b[1;33m\u001b[0m\u001b[0m\n",
      "\u001b[1;32m<ipython-input-2-5d9046774993>\u001b[0m in \u001b[0;36msentinel_search\u001b[1;34m(a, key)\u001b[0m\n\u001b[0;32m      4\u001b[0m \u001b[1;31m# 선형 검색 함수(보초법)\u001b[0m\u001b[1;33m\u001b[0m\u001b[1;33m\u001b[0m\u001b[1;33m\u001b[0m\u001b[0m\n\u001b[0;32m      5\u001b[0m \u001b[1;32mdef\u001b[0m \u001b[0msentinel_search\u001b[0m\u001b[1;33m(\u001b[0m\u001b[0ma\u001b[0m \u001b[1;33m:\u001b[0m \u001b[0mSequence\u001b[0m\u001b[1;33m,\u001b[0m \u001b[0mkey\u001b[0m\u001b[1;33m:\u001b[0m \u001b[0many\u001b[0m\u001b[1;33m)\u001b[0m \u001b[1;33m->\u001b[0m \u001b[0mint\u001b[0m\u001b[1;33m:\u001b[0m\u001b[1;33m\u001b[0m\u001b[1;33m\u001b[0m\u001b[0m\n\u001b[1;32m----> 6\u001b[1;33m     \u001b[0ma\u001b[0m \u001b[1;33m=\u001b[0m \u001b[0mcopy\u001b[0m\u001b[1;33m.\u001b[0m\u001b[0mdeepcopy\u001b[0m\u001b[1;33m(\u001b[0m\u001b[0mseq\u001b[0m\u001b[1;33m)\u001b[0m \u001b[1;31m# seq를 복사\u001b[0m\u001b[1;33m\u001b[0m\u001b[1;33m\u001b[0m\u001b[0m\n\u001b[0m\u001b[0;32m      7\u001b[0m     \u001b[0ma\u001b[0m\u001b[1;33m.\u001b[0m\u001b[0mappend\u001b[0m\u001b[1;33m(\u001b[0m\u001b[0mkey\u001b[0m\u001b[1;33m)\u001b[0m \u001b[1;31m# 보초 key를 추가\u001b[0m\u001b[1;33m\u001b[0m\u001b[1;33m\u001b[0m\u001b[0m\n\u001b[0;32m      8\u001b[0m \u001b[1;33m\u001b[0m\u001b[0m\n",
      "\u001b[1;31mNameError\u001b[0m: name 'seq' is not defined"
     ]
    }
   ],
   "source": [
    "from typing import Any, Sequence\n",
    "import copy\n",
    "\n",
    "# 선형 검색 함수(보초법)\n",
    "def sentinel_search(a : Sequence, key: any) -> int:\n",
    "    a = copy.deepcopy(seq) # seq를 복사\n",
    "    a.append(key) # 보초 key를 추가\n",
    "    \n",
    "    i = 0\n",
    "    while True:\n",
    "        if a[i] == key:\n",
    "            break # 검색에 성공하면 while문을 종료\n",
    "        i += 1\n",
    "    return -1 if i == len(seq) else i # 검색에 실패했을 경우 -1을 반환\n",
    "\n",
    "\n",
    "# Main 실행\n",
    "num = int(input('원소 수를 입력하세요.:')) # num 값 입력\n",
    "x = [None] * num # 원소 수가 num인 배열을 생성\n",
    "\n",
    "for i in range(num):\n",
    "    x[i] = int(input(f'x[{i}]: '))\n",
    "    \n",
    "ky = int(input('검색할 값을 입력하세요.: ')) # 검색할 키 ky를 입력받음\n",
    "\n",
    "idx = sentinel_search(x, ky)\n",
    "\n",
    "if idx == -1:\n",
    "    print('검색값을 갖는 원소가 존재하지 않습니다.')\n",
    "else :\n",
    "    print(f'검색값은 x[{idx}]에 있습니다.')"
   ]
  },
  {
   "cell_type": "markdown",
   "metadata": {},
   "source": [
    "### 이진 검색(Binary Search)\n",
    "- 오름차순이나 내림차순으로 정렬된 배열에서 좀 더 효율적인 검색 가능\n",
    "- 종료 조건\n",
    "    - a의 중앙 원소 값이 key와 일치하는 경우\n",
    "    - 검색 범위가 더 이상 없는 경우\n",
    "- 시간복잡도 : 반복마다 검색 범위가 대략 절반이 줄어드므로 필요 비교 횟수는 평균 log(n)"
   ]
  },
  {
   "cell_type": "code",
   "execution_count": 6,
   "metadata": {},
   "outputs": [
    {
     "name": "stdin",
     "output_type": "stream",
     "text": [
      "원소 수를 입력하세요.: 5\n"
     ]
    },
    {
     "name": "stdout",
     "output_type": "stream",
     "text": [
      "배열 데이터를 오름차순으로 입력하세요.\n"
     ]
    },
    {
     "name": "stdin",
     "output_type": "stream",
     "text": [
      "x[0]:  1\n",
      "x[1]:  2\n",
      "x[2]:  3\n",
      "x[3]:  4\n",
      "x[4]:  5\n",
      "검색할 값을 입력하세요.:  7\n"
     ]
    },
    {
     "name": "stdout",
     "output_type": "stream",
     "text": [
      "검색값을 갖는 원소가 존재하지 않습니다.\n"
     ]
    }
   ],
   "source": [
    "from typing import Any, Sequence\n",
    "\n",
    "# 이진 검색 함수\n",
    "def bin_search(a : Sequence, key: any) -> int:\n",
    "    pl = 0 # 검색 범위 맨 앞 원소의 인덱스\n",
    "    pr = len(a) - 1 # 검색 범위 맨 끝 원소의 인덱스\n",
    "\n",
    "    while True:\n",
    "        pc = (pl + pr) // 2 # 중앙 원소의 인덱스\n",
    "        # Case 1: 검색 성공\n",
    "        if a[pc] == key:\n",
    "            return pc\n",
    "        # Case 2: 검색 범위를 뒤쪽 절반으로 좁힘\n",
    "        elif a[pc] < key:\n",
    "            pl = pc + 1\n",
    "        # Case 3: 검색 범위를 앞쪽 절반으로 좁힘\n",
    "        else:\n",
    "            pr = pc - 1\n",
    "            \n",
    "        if pl > pr:\n",
    "            break\n",
    "    return - 1\n",
    "    \n",
    "\n",
    "# Main 실행\n",
    "num = int(input('원소 수를 입력하세요.:')) # num 값 입력\n",
    "x = [None] * num # 원소 수가 num인 배열을 생성\n",
    "\n",
    "print('배열 데이터를 오름차순으로 입력하세요.')\n",
    "\n",
    "for i in range(num):\n",
    "    x[i] = int(input(f'x[{i}]: '))\n",
    "    \n",
    "ky = int(input('검색할 값을 입력하세요.: ')) # 검색할 키 ky를 입력받음\n",
    "\n",
    "idx = bin_search(x, ky)\n",
    "\n",
    "if idx == -1:\n",
    "    print('검색값을 갖는 원소가 존재하지 않습니다.')\n",
    "else :\n",
    "    print(f'검색값은 x[{idx}]에 있습니다.')"
   ]
  },
  {
   "cell_type": "markdown",
   "metadata": {},
   "source": [
    "#### ※ 복잡도(complexity) : 알고리즘의 성능을 객관적으로 평가하는 기준\n",
    "- 시간 복잡도(time complexity) : 실행하는 데 필요한 시간을 평가, Big O로 표현\n",
    "- 공간 복잡도(space complexity) : 메모리(기억 공간)와 파일 공간이 얼마나 필요한지를 평가"
   ]
  }
 ],
 "metadata": {
  "kernelspec": {
   "display_name": "Python 3",
   "language": "python",
   "name": "python3"
  },
  "language_info": {
   "codemirror_mode": {
    "name": "ipython",
    "version": 3
   },
   "file_extension": ".py",
   "mimetype": "text/x-python",
   "name": "python",
   "nbconvert_exporter": "python",
   "pygments_lexer": "ipython3",
   "version": "3.8.3"
  }
 },
 "nbformat": 4,
 "nbformat_minor": 4
}
