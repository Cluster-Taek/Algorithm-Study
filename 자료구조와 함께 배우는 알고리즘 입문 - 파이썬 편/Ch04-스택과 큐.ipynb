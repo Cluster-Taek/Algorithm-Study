{
 "cells": [
  {
   "cell_type": "markdown",
   "metadata": {},
   "source": [
    "## 4. 스택과 큐"
   ]
  },
  {
   "cell_type": "markdown",
   "metadata": {},
   "source": [
    "### 1. 스택(Stack)\n",
    "- 데이터를 임시 저장할 때 사용하는 자료구조\n",
    "- 후입선출(LIFO : Last In Frist Out) 방식 사용\n",
    "- Push : 스택에 데이터를 넣는 작업\n",
    "- Pop : 스택에서 데이터를 꺼내는 작업\n",
    "- Capacity : 스택의 최대 크기"
   ]
  },
  {
   "cell_type": "markdown",
   "metadata": {},
   "source": [
    "### 2. 큐(Queue)\n",
    "- 선입선출(FIFO : First In Frist Out) 방식 사용\n",
    "- Enqueue : 큐에 데이터를 추가하는 작업\n",
    "- Dequeue : 큐에서 데이터를 꺼내는 작업\n",
    "- Front : 데이터를 꺼내는 쪽\n",
    "- Rear : 데이터를 넣는 쪽"
   ]
  },
  {
   "cell_type": "markdown",
   "metadata": {},
   "source": [
    "#### ※ 링 버퍼(Ring Buffer)\n",
    "- 원소를 옮길 필요없이 front와 rear값만 업데이트하면 되므로 모든 처리의 복잡도는 O(1)"
   ]
  },
  {
   "cell_type": "code",
   "execution_count": 2,
   "metadata": {},
   "outputs": [
    {
     "name": "stdin",
     "output_type": "stream",
     "text": [
      "정수를 몇 개 저장할까요?:  5\n",
      "1번째 정수를 입력하세요.: 1\n",
      "계속 할까요?(Y ... Yes / N ... No):  4\n",
      "2번째 정수를 입력하세요.: 5\n",
      "계속 할까요?(Y ... Yes / N ... No):  y\n",
      "3번째 정수를 입력하세요.: 4\n",
      "계속 할까요?(Y ... Yes / N ... No):  y\n",
      "4번째 정수를 입력하세요.: 2\n",
      "계속 할까요?(Y ... Yes / N ... No):  y\n",
      "5번째 정수를 입력하세요.: 7\n",
      "계속 할까요?(Y ... Yes / N ... No):  y\n",
      "6번째 정수를 입력하세요.: 3\n",
      "계속 할까요?(Y ... Yes / N ... No):  n\n"
     ]
    },
    {
     "name": "stdout",
     "output_type": "stream",
     "text": [
      "2번째 = 5\n",
      "3번째 = 4\n",
      "4번째 = 2\n",
      "5번째 = 7\n",
      "6번째 = 3\n"
     ]
    }
   ],
   "source": [
    "# 링 버퍼를 활용하여 최근 n개의 버퍼만을 유지\n",
    "\n",
    "n = int(input('정수를 몇 개 저장할까요?: '))\n",
    "a = [None] * n #입력 받은 값을 저장하는 배열\n",
    "\n",
    "cnt = 0\n",
    "while True:\n",
    "    a[cnt % n] = int(input((f'{cnt + 1}번째 정수를 입력하세요.:')))\n",
    "    cnt += 1\n",
    "    \n",
    "    retry = input(f'계속 할까요?(Y ... Yes / N ... No): ')\n",
    "    if retry in {'N', 'n'}: #N이나 n을 입력하면 더 이상 값을 받지 않음\n",
    "        break\n",
    "\n",
    "i = cnt - n\n",
    "if i < 0:\n",
    "    i = 0\n",
    "    \n",
    "while i < cnt:\n",
    "    print(f'{i + 1}번째 = {a[i % n]}')\n",
    "    i += 1"
   ]
  },
  {
   "cell_type": "markdown",
   "metadata": {},
   "source": [
    "#### ※ 우선순위 큐(Priority Queue) : heapq 모듈 사용\n",
    "- 인큐할 때 데이터에 우선순위를 부여하여 추가\n",
    "- 디큐할 때 우선순위가 가장 높은 데이터를 꺼내는 방식"
   ]
  }
 ],
 "metadata": {
  "kernelspec": {
   "display_name": "Python 3",
   "language": "python",
   "name": "python3"
  },
  "language_info": {
   "codemirror_mode": {
    "name": "ipython",
    "version": 3
   },
   "file_extension": ".py",
   "mimetype": "text/x-python",
   "name": "python",
   "nbconvert_exporter": "python",
   "pygments_lexer": "ipython3",
   "version": "3.8.5"
  }
 },
 "nbformat": 4,
 "nbformat_minor": 4
}
