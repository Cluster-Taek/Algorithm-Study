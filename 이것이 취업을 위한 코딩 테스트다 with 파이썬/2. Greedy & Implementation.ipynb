{
 "cells": [
  {
   "cell_type": "markdown",
   "metadata": {},
   "source": [
    "# 2. Greedy & Implement"
   ]
  },
  {
   "cell_type": "markdown",
   "metadata": {},
   "source": [
    "## 1. Greedy Algorithm\n",
    "- 현재 상황에서 지금 당장 좋은 것만 고르는 방법\n",
    "- 정당성 분석 필요(일반적인 상황에서 최적의 해를 보장할 수 없을 때가 많음)"
   ]
  },
  {
   "cell_type": "markdown",
   "metadata": {},
   "source": [
    "#### **<문제>거스름 돈: 문제 설명**\n",
    "당신은 음식점의 계산을 도와주는 점원입니다. 카운터에는 거스름돈으로 사용할 500원, 100원, 50원, 10원짜리 동전이 무한히 존재한다고 가정합니다. 손님에게 거슬러 주어야 할 돈이 N원일 때 거슬러 주어야 할 동전의 최소 개수를 구하세요. 단, 거슬러 줘야 할 돈 N은 항상 10의 배수입니다."
   ]
  },
  {
   "cell_type": "code",
   "execution_count": 6,
   "metadata": {},
   "outputs": [
    {
     "name": "stdin",
     "output_type": "stream",
     "text": [
      "거스름돈을 10의 배수로 입력하세요. 1520\n"
     ]
    },
    {
     "name": "stdout",
     "output_type": "stream",
     "text": [
      "5\n"
     ]
    }
   ],
   "source": [
    "money = int(input('거스름돈을 10의 배수로 입력하세요.'))\n",
    "\n",
    "def solution(money) :\n",
    "    count = 0\n",
    "    coin_list = [500, 100, 50, 10]\n",
    "    \n",
    "    for coin in coin_list :\n",
    "        count += money // coin\n",
    "        money  = money % coin\n",
    "    \n",
    "    return count\n",
    "\n",
    "print(solution(money))"
   ]
  },
  {
   "cell_type": "markdown",
   "metadata": {},
   "source": [
    "#### **<문제>거스름 돈: 정당성 분석**\n",
    "화폐의 단위가 항상 작은 단위의 배수이므로 작은 단위의 동전을 종합해 다른 해가 나오는 경우는 존재하지 않기 때문에 greedy 알고리즘 사용이 가능하다."
   ]
  }
 ],
 "metadata": {
  "kernelspec": {
   "display_name": "Python 3",
   "language": "python",
   "name": "python3"
  },
  "language_info": {
   "codemirror_mode": {
    "name": "ipython",
    "version": 3
   },
   "file_extension": ".py",
   "mimetype": "text/x-python",
   "name": "python",
   "nbconvert_exporter": "python",
   "pygments_lexer": "ipython3",
   "version": "3.8.3"
  }
 },
 "nbformat": 4,
 "nbformat_minor": 4
}
