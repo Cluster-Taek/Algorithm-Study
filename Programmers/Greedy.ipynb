{
 "cells": [
  {
   "cell_type": "markdown",
   "metadata": {},
   "source": [
    "### 1. 체육복"
   ]
  },
  {
   "cell_type": "code",
   "execution_count": 4,
   "metadata": {},
   "outputs": [],
   "source": [
    "def solution(n, lost, reserve):\n",
    "        \n",
    "    for r in range(len(reserve)):\n",
    "        if reserve[r] - 1 in lost and reserve[r] not in lost:\n",
    "            lost.remove(reserve[r] - 1)\n",
    "            reserve[r] = -1\n",
    "            \n",
    "    for r in range(len(reserve)):\n",
    "        if reserve[r] + 1 in lost and reserve[r] not in lost:\n",
    "            lost.remove(reserve[r] + 1)\n",
    "            reserve[r] = -1\n",
    "            \n",
    "    for r in range(len(reserve)):\n",
    "        if reserve[r] in lost:\n",
    "            lost.remove(reserve[r])\n",
    "            reserve[r] = -1\n",
    "    \n",
    "    answer = n - len(lost)\n",
    "    return answer"
   ]
  },
  {
   "cell_type": "code",
   "execution_count": 5,
   "metadata": {},
   "outputs": [],
   "source": [
    "n = 5\n",
    "lost = [2, 4]\n",
    "reserve = [1, 3, 5]\n",
    "# return 5"
   ]
  },
  {
   "cell_type": "code",
   "execution_count": 6,
   "metadata": {},
   "outputs": [
    {
     "name": "stdout",
     "output_type": "stream",
     "text": [
      "5\n"
     ]
    }
   ],
   "source": [
    "print(solution(n, lost, reserve))"
   ]
  }
 ],
 "metadata": {
  "kernelspec": {
   "display_name": "Python 3",
   "language": "python",
   "name": "python3"
  },
  "language_info": {
   "codemirror_mode": {
    "name": "ipython",
    "version": 3
   },
   "file_extension": ".py",
   "mimetype": "text/x-python",
   "name": "python",
   "nbconvert_exporter": "python",
   "pygments_lexer": "ipython3",
   "version": "3.8.5"
  }
 },
 "nbformat": 4,
 "nbformat_minor": 4
}
