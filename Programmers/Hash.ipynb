{
 "cells": [
  {
   "cell_type": "markdown",
   "metadata": {},
   "source": [
    "### 1. 완주하지 못한 선수"
   ]
  },
  {
   "cell_type": "code",
   "execution_count": 2,
   "metadata": {},
   "outputs": [],
   "source": [
    "def solution(participant, completion):\n",
    "    participant.sort()\n",
    "    completion.sort()\n",
    "    for i in range(len(completion)) :\n",
    "        if(completion[i] != participant[i]) :\n",
    "            return participant[i]\n",
    "    return participant[len(participant) - 1]"
   ]
  },
  {
   "cell_type": "code",
   "execution_count": 1,
   "metadata": {},
   "outputs": [],
   "source": [
    "participant = [\"leo\", \"kiki\", \"eden\"]\n",
    "completion = [\"eden\", \"kiki\"]\n",
    "# return \"leo\""
   ]
  },
  {
   "cell_type": "code",
   "execution_count": 3,
   "metadata": {},
   "outputs": [
    {
     "data": {
      "text/plain": [
       "'leo'"
      ]
     },
     "execution_count": 3,
     "metadata": {},
     "output_type": "execute_result"
    }
   ],
   "source": [
    "solution(participant, completion)"
   ]
  },
  {
   "cell_type": "markdown",
   "metadata": {},
   "source": [
    "### 2. 전화번호 목록"
   ]
  },
  {
   "cell_type": "code",
   "execution_count": 5,
   "metadata": {},
   "outputs": [],
   "source": [
    "def solution(phone_book):\n",
    "    answer = True\n",
    "\n",
    "    for i in range(len(phone_book)):\n",
    "        phone_book[i] = int(phone_book[i])\n",
    "\n",
    "    phone_book.sort()\n",
    "\n",
    "    for i in range(len(phone_book)):\n",
    "        phone_book[i] = str(phone_book[i])\n",
    "\n",
    "    for i in range(len(phone_book)):\n",
    "        for j in range(i + 1, len(phone_book)):\n",
    "            for k in range(len(phone_book[i])):\n",
    "                if phone_book[i][k] != phone_book[j][k]:\n",
    "                    answer = True\n",
    "                    break\n",
    "                answer = False\n",
    "            if not answer:\n",
    "                break\n",
    "        if not answer:\n",
    "            break\n",
    "\n",
    "    return answer"
   ]
  },
  {
   "cell_type": "code",
   "execution_count": 7,
   "metadata": {},
   "outputs": [],
   "source": [
    "phone_book = [\"119\", \"97674223\", \"1195524421\"]\n",
    "# return False"
   ]
  },
  {
   "cell_type": "code",
   "execution_count": 8,
   "metadata": {},
   "outputs": [
    {
     "data": {
      "text/plain": [
       "False"
      ]
     },
     "execution_count": 8,
     "metadata": {},
     "output_type": "execute_result"
    }
   ],
   "source": [
    "solution(phone_book)"
   ]
  },
  {
   "cell_type": "markdown",
   "metadata": {},
   "source": [
    "### 3. 위장"
   ]
  },
  {
   "cell_type": "code",
   "execution_count": 1,
   "metadata": {},
   "outputs": [],
   "source": [
    "def solution(clothes):\n",
    "    answer = 1\n",
    "    clothes_list = {}\n",
    "    \n",
    "    for cloth in clothes:\n",
    "        if cloth[1] in clothes_list:\n",
    "            clothes_list[cloth[1]] += 1\n",
    "        else :\n",
    "            clothes_list[cloth[1]] = 1\n",
    "    \n",
    "    for count in clothes_list :\n",
    "        answer *= (clothes_list[count] + 1)\n",
    "        \n",
    "    return answer - 1"
   ]
  },
  {
   "cell_type": "code",
   "execution_count": 2,
   "metadata": {},
   "outputs": [],
   "source": [
    "clothes = [[\"yellowhat\", \"headgear\"], [\"bluesunglasses\", \"eyewear\"], [\"green_turban\", \"headgear\"]]\n",
    "# return 5"
   ]
  },
  {
   "cell_type": "code",
   "execution_count": 3,
   "metadata": {},
   "outputs": [
    {
     "data": {
      "text/plain": [
       "5"
      ]
     },
     "execution_count": 3,
     "metadata": {},
     "output_type": "execute_result"
    }
   ],
   "source": [
    "solution(clothes)"
   ]
  },
  {
   "cell_type": "markdown",
   "metadata": {},
   "source": [
    "### 4. 베스트앨범"
   ]
  },
  {
   "cell_type": "code",
   "execution_count": 6,
   "metadata": {},
   "outputs": [],
   "source": [
    "def solution(genres, plays):\n",
    "    answer = []\n",
    "    genres_list = {}\n",
    "    song_list = []\n",
    "            \n",
    "    for i in range(len(genres)) :\n",
    "        song = (i, genres[i], plays[i])\n",
    "        song_list.append(song)\n",
    "    \n",
    "    song_list.sort(key=lambda song: song[2], reverse=True)\n",
    "\n",
    "    for song in song_list:\n",
    "        if song[1] in genres_list:\n",
    "            genres_list[song[1]] += int(song[2])\n",
    "        else :\n",
    "            genres_list[song[1]] = int(song[2])\n",
    "    \n",
    "    genres_list = sorted(genres_list.items(), key=lambda genres: genres[1], reverse=True)\n",
    "    \n",
    "    for genres in genres_list:\n",
    "        count = 0\n",
    "        for song in song_list:\n",
    "            if genres[0] == song[1]:\n",
    "                answer.append(song[0])\n",
    "                count += 1\n",
    "            if count > 1:\n",
    "                break\n",
    "    return answer"
   ]
  },
  {
   "cell_type": "code",
   "execution_count": 7,
   "metadata": {},
   "outputs": [],
   "source": [
    "genres = [\"classic\", \"pop\", \"classic\", \"classic\", \"pop\"]\n",
    "plays = [500, 600, 150, 800, 2500]\n",
    "# return [4, 1, 3, 0]"
   ]
  },
  {
   "cell_type": "code",
   "execution_count": 8,
   "metadata": {},
   "outputs": [
    {
     "data": {
      "text/plain": [
       "[4, 1, 3, 0]"
      ]
     },
     "execution_count": 8,
     "metadata": {},
     "output_type": "execute_result"
    }
   ],
   "source": [
    "solution(genres, plays)"
   ]
  }
 ],
 "metadata": {
  "kernelspec": {
   "display_name": "Python 3",
   "language": "python",
   "name": "python3"
  },
  "language_info": {
   "codemirror_mode": {
    "name": "ipython",
    "version": 3
   },
   "file_extension": ".py",
   "mimetype": "text/x-python",
   "name": "python",
   "nbconvert_exporter": "python",
   "pygments_lexer": "ipython3",
   "version": "3.8.8"
  }
 },
 "nbformat": 4,
 "nbformat_minor": 4
}
