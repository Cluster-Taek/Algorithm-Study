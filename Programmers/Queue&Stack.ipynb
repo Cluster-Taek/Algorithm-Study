{
 "cells": [
  {
   "cell_type": "markdown",
   "id": "05283ad1-eabd-4a47-95e5-64b3a48d3ffa",
   "metadata": {},
   "source": [
    "### 4. 베스트앨범"
   ]
  },
  {
   "cell_type": "code",
   "execution_count": 4,
   "id": "163fff86-2aea-416c-ad37-b430eebd42e6",
   "metadata": {},
   "outputs": [],
   "source": [
    "def solution(prices):\n",
    "    result = [0] * len(prices)\n",
    "    for i in range(len(prices)) :\n",
    "        for j in range(i + 1, len(prices)) :\n",
    "            result[i] += 1\n",
    "            if prices[i] > prices[j] :\n",
    "                break\n",
    "    return result"
   ]
  },
  {
   "cell_type": "code",
   "execution_count": 5,
   "id": "d9a572df-745e-4b9f-996c-b257b14f3791",
   "metadata": {},
   "outputs": [],
   "source": [
    "prices = [1, 2, 3, 2, 3]\n",
    "# return [4, 3, 1, 1, 0]"
   ]
  },
  {
   "cell_type": "code",
   "execution_count": 6,
   "id": "67b3bf29-dfd2-47e5-87c2-bc83e82bb2ad",
   "metadata": {},
   "outputs": [
    {
     "data": {
      "text/plain": [
       "[4, 3, 1, 1, 0]"
      ]
     },
     "execution_count": 6,
     "metadata": {},
     "output_type": "execute_result"
    }
   ],
   "source": [
    "solution(prices)"
   ]
  }
 ],
 "metadata": {
  "kernelspec": {
   "display_name": "Python 3",
   "language": "python",
   "name": "python3"
  },
  "language_info": {
   "codemirror_mode": {
    "name": "ipython",
    "version": 3
   },
   "file_extension": ".py",
   "mimetype": "text/x-python",
   "name": "python",
   "nbconvert_exporter": "python",
   "pygments_lexer": "ipython3",
   "version": "3.8.8"
  }
 },
 "nbformat": 4,
 "nbformat_minor": 5
}
